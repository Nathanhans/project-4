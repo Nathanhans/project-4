{
  "nbformat": 4,
  "nbformat_minor": 0,
  "metadata": {
    "colab": {
      "provenance": []
    },
    "kernelspec": {
      "name": "python3",
      "display_name": "Python 3"
    },
    "language_info": {
      "name": "python"
    }
  },
  "cells": [
    {
      "cell_type": "code",
      "source": [
        "import os\n",
        "spark_version = 'spark-3.5.1'\n",
        "os.environ['SPARK_VERSION']=spark_version\n",
        "\n",
        "# Install Spark and Java\n",
        "!apt-get update\n",
        "!apt-get install openjdk-11-jdk-headless -qq > /dev/null\n",
        "!wget -q https://downloads.apache.org/spark/$SPARK_VERSION/$SPARK_VERSION-bin-hadoop3.tgz\n",
        "!tar xf $SPARK_VERSION-bin-hadoop3.tgz\n",
        "!pip install -q findspark\n",
        "\n",
        "# Set Environment Variables\n",
        "os.environ[\"JAVA_HOME\"] = \"/usr/lib/jvm/java-11-openjdk-amd64\"\n",
        "os.environ[\"SPARK_HOME\"] = f\"/content/{spark_version}-bin-hadoop3\"\n",
        "\n",
        "# Start a SparkSession\n",
        "import findspark\n",
        "findspark.init()\n",
        "\n",
        "# Start Spark session\n",
        "from pyspark.sql import SparkSession\n",
        "spark = SparkSession.builder.appName(\"sparkDates\").getOrCreate()\n",
        "\n",
        "from pyspark import SparkFiles\n",
        "url= 'https://raw.githubusercontent.com/Nathanhans/project-4/main/heart_disease_dataset.csv'\n",
        "spark.sparkContext.addFile(url)\n",
        "df = spark.read.csv(SparkFiles.get(\"heart_disease_dataset.csv\"), sep=\",\", header=True, inferSchema=True)\n",
        "df.show()"
      ],
      "metadata": {
        "colab": {
          "base_uri": "https://localhost:8080/"
        },
        "id": "Tc2E1PA-1NVI",
        "outputId": "432f79bf-6724-4e1e-8f54-111801a241b1"
      },
      "execution_count": 1,
      "outputs": [
        {
          "output_type": "stream",
          "name": "stdout",
          "text": [
            "\r0% [Working]\r            \rHit:1 http://archive.ubuntu.com/ubuntu jammy InRelease\n",
            "\r0% [Waiting for headers] [Connected to cloud.r-project.org (108.157.173.52)] [Connecting to ppa.laun\r                                                                                                    \rHit:2 http://security.ubuntu.com/ubuntu jammy-security InRelease\n",
            "\r0% [Waiting for headers] [Connected to cloud.r-project.org (108.157.173.52)] [Connecting to ppa.laun\r                                                                                                    \rHit:3 http://archive.ubuntu.com/ubuntu jammy-updates InRelease\n",
            "\r0% [Waiting for headers] [Connected to cloud.r-project.org (108.157.173.52)] [Connecting to ppa.laun\r                                                                                                    \rHit:4 http://archive.ubuntu.com/ubuntu jammy-backports InRelease\n",
            "Hit:5 https://cloud.r-project.org/bin/linux/ubuntu jammy-cran40/ InRelease\n",
            "Hit:6 https://developer.download.nvidia.com/compute/cuda/repos/ubuntu2204/x86_64  InRelease\n",
            "Hit:7 https://ppa.launchpadcontent.net/c2d4u.team/c2d4u4.0+/ubuntu jammy InRelease\n",
            "Hit:8 https://ppa.launchpadcontent.net/deadsnakes/ppa/ubuntu jammy InRelease\n",
            "Hit:9 https://ppa.launchpadcontent.net/graphics-drivers/ppa/ubuntu jammy InRelease\n",
            "Hit:10 https://ppa.launchpadcontent.net/ubuntugis/ppa/ubuntu jammy InRelease\n",
            "Reading package lists... Done\n",
            "+-------+------+-------------+------------------+----------------+--------------------+------------------+----------+--------------------+--------------+---------+---------+---------+-------------+-------+---------------------+----------------+------------+-----------+-------------------+-----------------------+-----------------------+-----------------+-------------------------+-----------------+--------------------+--------------------+---------+---------------------+---------------+--------------+-----------------+-----+---------------+----------+------------+-------------+--------------------+----------------+--------+\n",
            "|  State|   Sex|GeneralHealth|PhysicalHealthDays|MentalHealthDays|     LastCheckupTime|PhysicalActivities|SleepHours|        RemovedTeeth|HadHeartAttack|HadAngina|HadStroke|HadAsthma|HadSkinCancer|HadCOPD|HadDepressiveDisorder|HadKidneyDisease|HadArthritis|HadDiabetes|DeafOrHardOfHearing|BlindOrVisionDifficulty|DifficultyConcentrating|DifficultyWalking|DifficultyDressingBathing|DifficultyErrands|        SmokerStatus|     ECigaretteUsage|ChestScan|RaceEthnicityCategory|    AgeCategory|HeightInMeters|WeightInKilograms|  BMI|AlcoholDrinkers|HIVTesting|FluVaxLast12|PneumoVaxEver|   TetanusLast10Tdap|HighRiskLastYear|CovidPos|\n",
            "+-------+------+-------------+------------------+----------------+--------------------+------------------+----------+--------------------+--------------+---------+---------+---------+-------------+-------+---------------------+----------------+------------+-----------+-------------------+-----------------------+-----------------------+-----------------+-------------------------+-----------------+--------------------+--------------------+---------+---------------------+---------------+--------------+-----------------+-----+---------------+----------+------------+-------------+--------------------+----------------+--------+\n",
            "|Alabama|Female|    Very good|                 4|               0|Within past year ...|               Yes|         9|        None of them|            No|       No|       No|       No|           No|     No|                   No|              No|         Yes|         No|                 No|                     No|                     No|               No|                       No|               No|       Former smoker|Never used e-ciga...|       No| White only, Non-H...|   Age 65 to 69|           1.6|            71.67|27.99|             No|        No|         Yes|          Yes|  Yes, received Tdap|              No|      No|\n",
            "|Alabama|  Male|    Very good|                 0|               0|Within past year ...|               Yes|         6|        None of them|            No|       No|       No|       No|           No|     No|                   No|              No|         Yes|        Yes|                 No|                     No|                     No|               No|                       No|               No|       Former smoker|Never used e-ciga...|       No| White only, Non-H...|   Age 70 to 74|          1.78|            95.25|30.13|             No|        No|         Yes|          Yes|Yes, received tet...|              No|      No|\n",
            "|Alabama|  Male|    Very good|                 0|               0|Within past year ...|                No|         8|6 or more, but no...|            No|       No|       No|       No|           No|     No|                   No|              No|         Yes|         No|                 No|                    Yes|                     No|              Yes|                       No|               No|       Former smoker|Never used e-ciga...|      Yes| White only, Non-H...|   Age 75 to 79|          1.85|           108.86|31.66|            Yes|        No|          No|          Yes|No, did not recei...|              No|     Yes|\n",
            "|Alabama|Female|         Fair|                 5|               0|Within past year ...|               Yes|         9|        None of them|            No|       No|       No|       No|          Yes|     No|                  Yes|              No|         Yes|         No|                 No|                     No|                     No|              Yes|                       No|               No|        Never smoked|Never used e-ciga...|       No| White only, Non-H...|Age 80 or older|           1.7|            90.72|31.32|             No|        No|         Yes|          Yes|No, did not recei...|              No|     Yes|\n",
            "|Alabama|Female|         Good|                 3|              15|Within past year ...|               Yes|         5|              1 to 5|            No|       No|       No|       No|           No|     No|                   No|              No|         Yes|         No|                 No|                     No|                     No|               No|                       No|               No|        Never smoked|Never used e-ciga...|       No| White only, Non-H...|Age 80 or older|          1.55|            79.38|33.07|             No|        No|         Yes|          Yes|No, did not recei...|              No|      No|\n",
            "|Alabama|  Male|         Good|                 0|               0|Within past year ...|               Yes|         7|        None of them|            No|       No|       No|       No|           No|     No|                   No|              No|          No|         No|                 No|                     No|                     No|               No|                       No|               No|        Never smoked|Never used e-ciga...|      Yes| White only, Non-H...|   Age 50 to 54|          1.85|            120.2|34.96|            Yes|       Yes|         Yes|           No|Yes, received tet...|              No|      No|\n",
            "|Alabama|Female|         Good|                 3|               0|Within past year ...|               Yes|         8|6 or more, but no...|            No|       No|      Yes|       No|           No|     No|                   No|              No|          No|        Yes|                 No|                     No|                     No|               No|                       No|               No|        Never smoked|Never used e-ciga...|      Yes| Black only, Non-H...|Age 80 or older|          1.63|             88.0| 33.3|             No|        No|         Yes|          Yes|No, did not recei...|              No|      No|\n",
            "|Alabama|  Male|         Fair|                 5|               0|Within past year ...|               Yes|         8|              1 to 5|           Yes|      Yes|       No|       No|          Yes|     No|                   No|              No|         Yes|        Yes|                 No|                     No|                     No|               No|                       No|               No|        Never smoked|Never used e-ciga...|      Yes| White only, Non-H...|   Age 75 to 79|          1.75|            74.84|24.37|             No|       Yes|         Yes|          Yes|No, did not recei...|              No|     Yes|\n",
            "|Alabama|  Male|         Good|                 2|               0| 5 or more years ago|                No|         6|        None of them|            No|       No|       No|       No|           No|     No|                   No|              No|         Yes|         No|                Yes|                     No|                     No|               No|                       No|               No|       Former smoker|Never used e-ciga...|      Yes| White only, Non-H...|   Age 40 to 44|           1.7|            78.02|26.94|             No|        No|          No|           No|No, did not recei...|              No|     Yes|\n",
            "|Alabama|Female|    Very good|                 0|               0|Within past year ...|               Yes|         7|        None of them|            No|       No|       No|      Yes|          Yes|     No|                   No|              No|         Yes|         No|                 No|                     No|                     No|               No|                       No|               No|       Former smoker|Never used e-ciga...|      Yes| White only, Non-H...|   Age 75 to 79|          1.68|             63.5| 22.6|             No|        No|         Yes|          Yes|No, did not recei...|              No|      No|\n",
            "|Alabama|  Male|    Very good|                 0|               0|Within past year ...|               Yes|         8|              1 to 5|            No|       No|       No|       No|           No|     No|                   No|              No|          No|         No|                 No|                     No|                     No|               No|                       No|               No|        Never smoked|Never used e-ciga...|      Yes| White only, Non-H...|Age 80 or older|          1.83|           122.47|36.62|            Yes|        No|         Yes|          Yes|  Yes, received Tdap|              No|      No|\n",
            "|Alabama|Female|         Good|                 3|               4|Within past year ...|               Yes|         5|        None of them|            No|       No|       No|       No|           No|     No|                   No|              No|         Yes|        Yes|                 No|                     No|                     No|              Yes|                       No|               No|        Never smoked|Never used e-ciga...|       No| White only, Non-H...|   Age 60 to 64|          1.52|           108.86|46.87|             No|        No|          No|           No|Yes, received tet...|              No|     Yes|\n",
            "|Alabama|  Male|         Good|                 5|               0|Within past year ...|               Yes|         5|6 or more, but no...|           Yes|       No|       No|       No|          Yes|     No|                   No|              No|         Yes|         No|                 No|                     No|                    Yes|              Yes|                       No|               No|Current smoker - ...|  Use them some days|      Yes| White only, Non-H...|   Age 60 to 64|          1.88|           115.67|32.74|             No|        No|         Yes|          Yes|Yes, received tet...|              No|      No|\n",
            "|Alabama|Female|         Good|                 0|               0|Within past year ...|                No|         6|              1 to 5|            No|       No|       No|       No|           No|     No|                   No|              No|          No|         No|                 No|                     No|                     No|               No|                       No|               No|       Former smoker|Never used e-ciga...|       No| White only, Non-H...|   Age 60 to 64|          1.52|            81.65|35.15|             No|        No|          No|           No|  Yes, received Tdap|              No|      No|\n",
            "|Alabama|  Male|         Fair|                25|              25|Within past year ...|                No|         6|6 or more, but no...|            No|      Yes|       No|       No|           No|     No|                  Yes|             Yes|         Yes|         No|                Yes|                     No|                    Yes|              Yes|                      Yes|               No|        Never smoked|Never used e-ciga...|      Yes| White only, Non-H...|   Age 70 to 74|          1.78|            86.18|27.26|             No|        No|         Yes|           No|No, did not recei...|              No|     Yes|\n",
            "|Alabama|Female|         Good|                 0|              15|Within past year ...|               Yes|         8|                 All|            No|       No|       No|       No|           No|     No|                  Yes|              No|          No|        Yes|                 No|                     No|                     No|               No|                       No|               No|       Former smoker|Never used e-ciga...|      Yes| White only, Non-H...|Age 80 or older|           1.5|             63.5|28.28|             No|        No|         Yes|          Yes|No, did not recei...|              No|     Yes|\n",
            "|Alabama|Female|         Good|                 0|               0|Within past year ...|               Yes|         7|                 All|            No|       No|       No|      Yes|           No|     No|                   No|              No|          No|         No|                 No|                     No|                     No|               No|                       No|               No|Current smoker - ...|Never used e-ciga...|      Yes| White only, Non-H...|   Age 65 to 69|          1.73|             76.2|25.54|             No|        No|         Yes|          Yes|  Yes, received Tdap|              No|      No|\n",
            "|Alabama|Female|         Good|                 0|               0|Within past year ...|                No|        10|                 All|            No|       No|       No|       No|           No|     No|                   No|              No|          No|         No|                 No|                     No|                     No|              Yes|                       No|               No|Current smoker - ...|Never used e-ciga...|      Yes| White only, Non-H...|   Age 70 to 74|          1.65|            54.88|20.14|            Yes|        No|         Yes|          Yes|No, did not recei...|              No|      No|\n",
            "|Alabama|Female|    Excellent|                 0|               0|Within past year ...|               Yes|         6|6 or more, but no...|            No|       No|      Yes|       No|           No|     No|                   No|              No|          No|        Yes|                 No|                     No|                     No|               No|                       No|               No|        Never smoked|Never used e-ciga...|       No| Black only, Non-H...|   Age 60 to 64|           1.7|            72.57|25.06|             No|        No|         Yes|           No|No, did not recei...|              No|      No|\n",
            "|Alabama|  Male|         Poor|                30|               0|Within past year ...|                No|         9|              1 to 5|            No|       No|       No|       No|          Yes|     No|                   No|             Yes|         Yes|         No|                 No|                     No|                    Yes|              Yes|                      Yes|              Yes|       Former smoker|Never used e-ciga...|       No| White only, Non-H...|Age 80 or older|           1.8|            88.45| 27.2|             No|        No|         Yes|           No|No, did not recei...|              No|      No|\n",
            "+-------+------+-------------+------------------+----------------+--------------------+------------------+----------+--------------------+--------------+---------+---------+---------+-------------+-------+---------------------+----------------+------------+-----------+-------------------+-----------------------+-----------------------+-----------------+-------------------------+-----------------+--------------------+--------------------+---------+---------------------+---------------+--------------+-----------------+-----+---------------+----------+------------+-------------+--------------------+----------------+--------+\n",
            "only showing top 20 rows\n",
            "\n"
          ]
        }
      ]
    },
    {
      "cell_type": "code",
      "execution_count": 2,
      "metadata": {
        "id": "H1w1CBS70qi7",
        "colab": {
          "base_uri": "https://localhost:8080/"
        },
        "outputId": "86465c4f-18e5-4d69-bfbc-98367af64e90"
      },
      "outputs": [
        {
          "output_type": "stream",
          "name": "stdout",
          "text": [
            "root\n",
            " |-- State: string (nullable = true)\n",
            " |-- Sex: string (nullable = true)\n",
            " |-- GeneralHealth: string (nullable = true)\n",
            " |-- PhysicalHealthDays: integer (nullable = true)\n",
            " |-- MentalHealthDays: integer (nullable = true)\n",
            " |-- LastCheckupTime: string (nullable = true)\n",
            " |-- PhysicalActivities: string (nullable = true)\n",
            " |-- SleepHours: integer (nullable = true)\n",
            " |-- RemovedTeeth: string (nullable = true)\n",
            " |-- HadHeartAttack: string (nullable = true)\n",
            " |-- HadAngina: string (nullable = true)\n",
            " |-- HadStroke: string (nullable = true)\n",
            " |-- HadAsthma: string (nullable = true)\n",
            " |-- HadSkinCancer: string (nullable = true)\n",
            " |-- HadCOPD: string (nullable = true)\n",
            " |-- HadDepressiveDisorder: string (nullable = true)\n",
            " |-- HadKidneyDisease: string (nullable = true)\n",
            " |-- HadArthritis: string (nullable = true)\n",
            " |-- HadDiabetes: string (nullable = true)\n",
            " |-- DeafOrHardOfHearing: string (nullable = true)\n",
            " |-- BlindOrVisionDifficulty: string (nullable = true)\n",
            " |-- DifficultyConcentrating: string (nullable = true)\n",
            " |-- DifficultyWalking: string (nullable = true)\n",
            " |-- DifficultyDressingBathing: string (nullable = true)\n",
            " |-- DifficultyErrands: string (nullable = true)\n",
            " |-- SmokerStatus: string (nullable = true)\n",
            " |-- ECigaretteUsage: string (nullable = true)\n",
            " |-- ChestScan: string (nullable = true)\n",
            " |-- RaceEthnicityCategory: string (nullable = true)\n",
            " |-- AgeCategory: string (nullable = true)\n",
            " |-- HeightInMeters: double (nullable = true)\n",
            " |-- WeightInKilograms: double (nullable = true)\n",
            " |-- BMI: double (nullable = true)\n",
            " |-- AlcoholDrinkers: string (nullable = true)\n",
            " |-- HIVTesting: string (nullable = true)\n",
            " |-- FluVaxLast12: string (nullable = true)\n",
            " |-- PneumoVaxEver: string (nullable = true)\n",
            " |-- TetanusLast10Tdap: string (nullable = true)\n",
            " |-- HighRiskLastYear: string (nullable = true)\n",
            " |-- CovidPos: string (nullable = true)\n",
            "\n"
          ]
        }
      ],
      "source": [
        "# Show datatypes\n",
        "df.printSchema()"
      ]
    },
    {
      "cell_type": "code",
      "source": [
        "# Find average BMI by state\n",
        "averages = df.groupBy(\"state\").avg()\n",
        "averages.orderBy(\"avg(BMI)\").select(\"State\", \"avg(BMI)\").show(averages.count())"
      ],
      "metadata": {
        "colab": {
          "base_uri": "https://localhost:8080/"
        },
        "id": "F9hdMP5D2wE2",
        "outputId": "5e202e85-ede5-4e50-98a0-e2fe0bff0311"
      },
      "execution_count": 3,
      "outputs": [
        {
          "output_type": "stream",
          "name": "stdout",
          "text": [
            "+--------------------+------------------+\n",
            "|               State|          avg(BMI)|\n",
            "+--------------------+------------------+\n",
            "|              Hawaii|   27.037469621158|\n",
            "|District of Columbia| 27.11413913043479|\n",
            "|            Colorado| 27.46224849777092|\n",
            "|             Vermont| 27.63499071207437|\n",
            "|       Massachusetts| 27.76315279048493|\n",
            "|          California|27.785286499215108|\n",
            "|          New Jersey|27.966909503403116|\n",
            "|       New Hampshire|28.033181576144834|\n",
            "|        Rhode Island|28.142843830334275|\n",
            "|            New York|28.163643393477628|\n",
            "|                Guam| 28.19103292446739|\n",
            "|         Connecticut|28.219651692064165|\n",
            "|              Nevada|28.224104013566976|\n",
            "|                Utah|28.260245672808576|\n",
            "|          New Mexico|28.283763477089014|\n",
            "|          Washington|28.299338666667143|\n",
            "|             Montana|28.299645872420278|\n",
            "|             Arizona| 28.37178689124863|\n",
            "|              Alaska|28.397978159126318|\n",
            "|              Oregon|28.454247294194804|\n",
            "|             Wyoming|28.476531120331938|\n",
            "|               Maine|28.526088474970802|\n",
            "|             Florida|28.568050580997962|\n",
            "|               Idaho|28.616170703575534|\n",
            "|      Virgin Islands| 28.62880215343202|\n",
            "|            Michigan|28.658443202979505|\n",
            "|           Minnesota|28.687714223338162|\n",
            "|      North Carolina| 28.75028224225789|\n",
            "|        Pennsylvania|28.754287284719627|\n",
            "|            Illinois| 28.75971998465676|\n",
            "|            Maryland|28.763478450627524|\n",
            "|            Virginia|28.836012578616312|\n",
            "|         Puerto Rico| 28.87258846475338|\n",
            "|      South Carolina|28.894487296655196|\n",
            "|             Georgia| 29.01307151466457|\n",
            "|        North Dakota|29.089143314651714|\n",
            "|              Kansas|29.109402766476794|\n",
            "|        South Dakota|29.131339387060155|\n",
            "|            Delaware| 29.21240371229701|\n",
            "|            Arkansas|29.213887755102075|\n",
            "|            Missouri|29.237654350417184|\n",
            "|               Texas| 29.24587473002166|\n",
            "|            Nebraska|29.283526532210697|\n",
            "|           Wisconsin|29.290662748939003|\n",
            "|           Tennessee| 29.30403669724768|\n",
            "|            Oklahoma|29.308384903094094|\n",
            "|           Louisiana|29.396684385382137|\n",
            "|                Iowa|29.416075458392125|\n",
            "|             Alabama|29.474542586750832|\n",
            "|             Indiana| 29.49329516539436|\n",
            "|            Kentucky|29.522768338168316|\n",
            "|                Ohio| 29.70475264035596|\n",
            "|       West Virginia|29.882629455279087|\n",
            "|         Mississippi|30.211550451189474|\n",
            "+--------------------+------------------+\n",
            "\n"
          ]
        }
      ]
    },
    {
      "cell_type": "code",
      "source": [
        "# Find average BMI and hours of Sleep by HadHeartAttack value\n",
        "HA_averages = df.groupBy(\"HadHeartAttack\").avg()\n",
        "HA_averages.orderBy(\"avg(BMI)\").select(\"HadHeartAttack\", \"avg(BMI)\", \"avg(SleepHours)\").show(HA_averages.count())"
      ],
      "metadata": {
        "colab": {
          "base_uri": "https://localhost:8080/"
        },
        "id": "XzjbYGOP3neN",
        "outputId": "cdcd9525-a0e7-4e73-b5f2-102b2cad31f1"
      },
      "execution_count": 4,
      "outputs": [
        {
          "output_type": "stream",
          "name": "stdout",
          "text": [
            "+--------------+-----------------+-----------------+\n",
            "|HadHeartAttack|         avg(BMI)|  avg(SleepHours)|\n",
            "+--------------+-----------------+-----------------+\n",
            "|            No|28.62052148228253|7.020074208790689|\n",
            "|           Yes|29.49243542984752|7.043096390026052|\n",
            "+--------------+-----------------+-----------------+\n",
            "\n"
          ]
        }
      ]
    }
  ]
}